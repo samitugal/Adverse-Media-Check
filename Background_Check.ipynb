{
  "nbformat": 4,
  "nbformat_minor": 0,
  "metadata": {
    "colab": {
      "provenance": []
    },
    "kernelspec": {
      "name": "python3",
      "display_name": "Python 3"
    },
    "language_info": {
      "name": "python"
    }
  },
  "cells": [
    {
      "cell_type": "code",
      "execution_count": null,
      "metadata": {
        "id": "5Lwfv6IsZ7I9"
      },
      "outputs": [],
      "source": [
        "!pip3 install pygooglenews\n",
        "!pip3 install requests-html\n",
        "!pip3 install nest-asyncio\n",
        "!pip3 install unidecode"
      ]
    },
    {
      "cell_type": "code",
      "source": [
        "import pandas as pd \n",
        "from pygooglenews import GoogleNews\n",
        "from requests_html import HTMLSession\n",
        "import nest_asyncio\n",
        "from bs4 import BeautifulSoup\n",
        "import requests\n",
        "from unidecode import unidecode\n",
        "import re"
      ],
      "metadata": {
        "id": "nqBG_9FoaAvh"
      },
      "execution_count": 2,
      "outputs": []
    },
    {
      "cell_type": "code",
      "source": [
        "class Customer:\n",
        "  def __init__(self,ID,Name,Surname,FatherName,Birthplace,Birthdate,Origin,CountryCode):\n",
        "    self.ID = ID\n",
        "    self.Name = Name\n",
        "    self.Surname = Surname\n",
        "    self.FatherName = FatherName\n",
        "    self.Birthplace = Birthplace\n",
        "    self.Birthdate = Birthdate\n",
        "    self.Origin = Origin\n",
        "    self.CountryCode = CountryCode"
      ],
      "metadata": {
        "id": "CXpBYclsbcc_"
      },
      "execution_count": 3,
      "outputs": []
    },
    {
      "cell_type": "code",
      "source": [
        "gn = GoogleNews(lang = 'eng', country = 'UK')\n",
        "search = gn.search(\"crime\")"
      ],
      "metadata": {
        "id": "1VXbAAlDcJKm"
      },
      "execution_count": 4,
      "outputs": []
    },
    {
      "cell_type": "code",
      "source": [
        "crimeLinks = []\n",
        "for item in search['entries']:\n",
        "    crimeLinks.append(item['link'])"
      ],
      "metadata": {
        "id": "dV6GyI80cWz1"
      },
      "execution_count": 5,
      "outputs": []
    },
    {
      "cell_type": "code",
      "source": [
        "def concatList(list):\n",
        "  temp = ''\n",
        "  for i in list:\n",
        "    temp += i \n",
        "  return temp"
      ],
      "metadata": {
        "id": "9PyKDPA5i2oY"
      },
      "execution_count": 6,
      "outputs": []
    },
    {
      "cell_type": "code",
      "source": [
        "def cleanText(text):\n",
        "  newText = []\n",
        "  for i in text:\n",
        "    tmp = i.lower()\n",
        "    tmp = re.sub('[^a-zA-Z]',\" \", unidecode(tmp))\n",
        "    newText.append(tmp)\n",
        "  \n",
        "  return concatList(newText)"
      ],
      "metadata": {
        "id": "lhnQJ_7xbd9D"
      },
      "execution_count": 7,
      "outputs": []
    },
    {
      "cell_type": "code",
      "source": [
        "linkTexts = []\n",
        "for URL in crimeLinks:\n",
        "    temp = []\n",
        "    r = requests.get(URL)\n",
        "    source = BeautifulSoup(r.content,\"lxml\")\n",
        "    for data in source.find_all(\"p\"):\n",
        "        temp.append(data.get_text())\n",
        "\n",
        "    linkTexts.append(cleanText(concatList(temp)))\n",
        "    "
      ],
      "metadata": {
        "id": "_zozyr0GiPyh"
      },
      "execution_count": 8,
      "outputs": []
    },
    {
      "cell_type": "code",
      "source": [
        "def findIndex(linkList , text):\n",
        "  return linkList.index(text)\n"
      ],
      "metadata": {
        "id": "_YsnbnenYp4z"
      },
      "execution_count": 9,
      "outputs": []
    },
    {
      "cell_type": "code",
      "source": [
        "def findname(list, customer):\n",
        "  tmp = []\n",
        "  for i in list:\n",
        "    text = i.split()\n",
        "    for j in range(0,len(text)):\n",
        "      if(text[j] == customer.Name and text[j+1] == customer.Surname):\n",
        "        tmp.append(i)\n",
        "\n",
        "  return tmp"
      ],
      "metadata": {
        "id": "PeR--Q-9cyQT"
      },
      "execution_count": 10,
      "outputs": []
    },
    {
      "cell_type": "code",
      "source": [
        "testCustomer1 = Customer('23713554448','carefully','considered','Sinan','Pazar','28101999','TR','TR')\n",
        "testCustomer = Customer('23713554448','Sami','Tugal','Sinan','Pazar','28101999','TR','TR')"
      ],
      "metadata": {
        "id": "mnB4n2Q2eB5h"
      },
      "execution_count": 11,
      "outputs": []
    },
    {
      "cell_type": "code",
      "source": [
        "findname(linkTexts,testCustomer)"
      ],
      "metadata": {
        "colab": {
          "base_uri": "https://localhost:8080/"
        },
        "id": "lvs3lGoSeLhA",
        "outputId": "d87c29da-46fe-4b2a-a134-478739aefeba"
      },
      "execution_count": 12,
      "outputs": [
        {
          "output_type": "execute_result",
          "data": {
            "text/plain": [
              "[]"
            ]
          },
          "metadata": {},
          "execution_count": 12
        }
      ]
    },
    {
      "cell_type": "code",
      "source": [
        "def returnLink(crimeLinks,customer,linkTexts):\n",
        "  tmp = []\n",
        "  for i in findname(linkTexts,customer):\n",
        "      index = findIndex(linkTexts,i)\n",
        "      tmp.append(crimeLinks[index])\n",
        "  return tmp"
      ],
      "metadata": {
        "id": "55SfBTNxccmn"
      },
      "execution_count": 13,
      "outputs": []
    },
    {
      "cell_type": "code",
      "source": [
        "customerRelatedNews = returnLink(crimeLinks,testCustomer1,linkTexts)"
      ],
      "metadata": {
        "id": "xzj2v0iTUO0Y"
      },
      "execution_count": 21,
      "outputs": []
    },
    {
      "cell_type": "code",
      "source": [
        "if customerRelatedNews:\n",
        "  print(\"-----Customer Related News-----\")\n",
        "  for i in customerRelatedNews:\n",
        "    print(i)\n",
        "\n",
        "else:\n",
        "  print(\"Couldn't find any news about customer\")"
      ],
      "metadata": {
        "colab": {
          "base_uri": "https://localhost:8080/"
        },
        "id": "txHsIj3OdxZI",
        "outputId": "75c46c68-7e6d-4cd8-9453-d023b379b97e"
      },
      "execution_count": 22,
      "outputs": [
        {
          "output_type": "stream",
          "name": "stdout",
          "text": [
            "Couldn't find any news about customer\n"
          ]
        }
      ]
    }
  ]
}